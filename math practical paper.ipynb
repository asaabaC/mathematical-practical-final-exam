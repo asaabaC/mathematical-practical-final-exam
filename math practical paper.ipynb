{
 "cells": [
  {
   "cell_type": "code",
   "execution_count": 18,
   "metadata": {},
   "outputs": [
    {
     "name": "stdout",
     "output_type": "stream",
     "text": [
      "Inverse Matrix:\n",
      "[[ 1.56521739  0.86956522 -1.47826087]\n",
      " [ 0.86956522  3.26086957 -3.04347826]\n",
      " [-1.47826087 -3.04347826  4.17391304]]\n",
      "Determinant: 0.2299999999999999\n",
      "Decomposed Matrix (Cholesky):\n",
      "[[1.         0.         0.        ]\n",
      " [0.2        0.9797959  0.        ]\n",
      " [0.5        0.71443451 0.48947251]]\n",
      "(d) Transformed matrix (matrix multiplication):\n",
      " [[2.  0.6 0.5]\n",
      " [0.4 3.  0.8]\n",
      " [1.  2.4 1. ]]\n"
     ]
    }
   ],
   "source": [
    "# no 4\n",
    "#a) #To compute the inverse of the matrix, you can use the `np.linalg.inv()` function in NumPy:\n",
    "\n",
    "\n",
    "import numpy as np\n",
    "\n",
    "# Define the matrix\n",
    "matrix = np.array([[1, 0.2, 0.5], [0.2, 1, 0.8], [0.5, 0.8, 1]])\n",
    "\n",
    "# Compute the inverse\n",
    "inverse_matrix = np.linalg.inv(matrix)\n",
    "\n",
    "print(\"Inverse Matrix:\")\n",
    "print(inverse_matrix)\n",
    "\n",
    "\n",
    "\n",
    "#(b) To compute the determinant of the matrix, you can use the `np.linalg.det()` function in NumPy:\n",
    "\n",
    "import numpy as np\n",
    "\n",
    "# Define the matrix\n",
    "matrix = np.array([[1, 0.2, 0.5], [0.2, 1, 0.8], [0.5, 0.8, 1]])\n",
    "\n",
    "# Compute the determinant\n",
    "determinant = np.linalg.det(matrix)\n",
    "\n",
    "print(\"Determinant:\", determinant)\n",
    "\n",
    "\n",
    "#(c) To decompose the matrix, you can use the Cholesky decomposition method using the `np.linalg.cholesky()` function in NumPy:\n",
    "\n",
    "import numpy as np\n",
    "\n",
    "# Define the matrix\n",
    "matrix = np.array([[1, 0.2, 0.5], [0.2, 1, 0.8], [0.5, 0.8, 1]])\n",
    "\n",
    "# Compute the Cholesky decomposition\n",
    "decomposed_matrix = np.linalg.cholesky(matrix)\n",
    "\n",
    "print(\"Decomposed Matrix (Cholesky):\")\n",
    "print(decomposed_matrix)\n",
    "\n",
    "# (d) Transform the matrix (matrix multiplication for demonstration)\n",
    "transformation_matrix = np.array([[2, 0, 0],\n",
    "                                  [0, 3, 0],\n",
    "                                  [0, 0, 1]])\n",
    "transformed_matrix = matrix.dot(transformation_matrix)\n",
    "print(\"(d) Transformed matrix (matrix multiplication):\\n\", transformed_matrix)\n",
    "\n"
   ]
  },
  {
   "cell_type": "code",
   "execution_count": 16,
   "metadata": {},
   "outputs": [
    {
     "name": "stdout",
     "output_type": "stream",
     "text": [
      "Solution:\n",
      "x = -1.4000000000000001\n",
      "y = 1.36\n",
      "z = -6.920000000000001\n"
     ]
    }
   ],
   "source": [
    "#NO 5\n",
    "#Write a python program to solve three linear equations using matrices. You can use the numpy library for matrix operation\n",
    "\n",
    "import numpy as np\n",
    "\n",
    "def solve_linear_equations(coefficients, constants):\n",
    "    A = np.array(coefficients)\n",
    "    B = np.array(constants)\n",
    "    \n",
    "    # Use numpy's linear algebra solver to find the solution\n",
    "    try:\n",
    "        solution = np.linalg.solve(A, B)\n",
    "        return solution\n",
    "    except np.linalg.LinAlgError:\n",
    "\n",
    "        return None\n",
    "\n",
    "# Example system of equations:\n",
    "# 7x + 8y - z  = 8\n",
    "# -3x - y + 2z = -11\n",
    "# -11x + y + 3z = -4\n",
    "\n",
    "coefficients = [[7, 8, -1],\n",
    "                [-3, -1, 2],\n",
    "                [-11, 1, 3]]\n",
    "\n",
    "constants = [8, -11, -4]\n",
    "\n",
    "solution = solve_linear_equations(coefficients, constants)\n",
    "\n",
    "if solution is not None:\n",
    "    print(\"Solution:\")\n",
    "    print(\"x =\", solution[0])\n",
    "    print(\"y =\", solution[1])\n",
    "    print(\"z =\", solution[2])\n",
    "else:\n",
    "    print(\"The system of equations has no unique solution.\")"
   ]
  }
 ],
 "metadata": {
  "kernelspec": {
   "display_name": "Python 3",
   "language": "python",
   "name": "python3"
  },
  "language_info": {
   "codemirror_mode": {
    "name": "ipython",
    "version": 3
   },
   "file_extension": ".py",
   "mimetype": "text/x-python",
   "name": "python",
   "nbconvert_exporter": "python",
   "pygments_lexer": "ipython3",
   "version": "3.12.0"
  }
 },
 "nbformat": 4,
 "nbformat_minor": 2
}
